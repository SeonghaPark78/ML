{
 "cells": [
  {
   "cell_type": "code",
   "execution_count": 78,
   "id": "d6eca58a",
   "metadata": {},
   "outputs": [],
   "source": [
    "from sklearn.datasets import load_diabetes\n",
    "\n",
    "diabetes=load_diabetes()"
   ]
  },
  {
   "cell_type": "code",
   "execution_count": 79,
   "id": "3c6fd35c",
   "metadata": {},
   "outputs": [
    {
     "name": "stdout",
     "output_type": "stream",
     "text": [
      "(442, 10)\n",
      "(442,)\n"
     ]
    }
   ],
   "source": [
    "df_X=diabetes.data\n",
    "df_y=diabetes.target\n",
    "\n",
    "print(df_X.shape)\n",
    "print(df_y.shape)"
   ]
  },
  {
   "cell_type": "code",
   "execution_count": 80,
   "id": "c07ce607",
   "metadata": {},
   "outputs": [
    {
     "name": "stdout",
     "output_type": "stream",
     "text": [
      "[[ 0.03807591  0.05068012  0.06169621 ... -0.00259226  0.01990842\n",
      "  -0.01764613]\n",
      " [-0.00188202 -0.04464164 -0.05147406 ... -0.03949338 -0.06832974\n",
      "  -0.09220405]\n",
      " [ 0.08529891  0.05068012  0.04445121 ... -0.00259226  0.00286377\n",
      "  -0.02593034]\n",
      " ...\n",
      " [ 0.04170844  0.05068012 -0.01590626 ... -0.01107952 -0.04687948\n",
      "   0.01549073]\n",
      " [-0.04547248 -0.04464164  0.03906215 ...  0.02655962  0.04452837\n",
      "  -0.02593034]\n",
      " [-0.04547248 -0.04464164 -0.0730303  ... -0.03949338 -0.00421986\n",
      "   0.00306441]] [151.  75. 141. 206. 135.  97. 138.  63. 110. 310. 101.  69. 179. 185.\n",
      " 118. 171. 166. 144.  97. 168.  68.  49.  68. 245. 184. 202. 137.  85.\n",
      " 131. 283. 129.  59. 341.  87.  65. 102. 265. 276. 252.  90. 100.  55.\n",
      "  61.  92. 259.  53. 190. 142.  75. 142. 155. 225.  59. 104. 182. 128.\n",
      "  52.  37. 170. 170.  61. 144.  52. 128.  71. 163. 150.  97. 160. 178.\n",
      "  48. 270. 202. 111.  85.  42. 170. 200. 252. 113. 143.  51.  52. 210.\n",
      "  65. 141.  55. 134.  42. 111.  98. 164.  48.  96.  90. 162. 150. 279.\n",
      "  92.  83. 128. 102. 302. 198.  95.  53. 134. 144. 232.  81. 104.  59.\n",
      " 246. 297. 258. 229. 275. 281. 179. 200. 200. 173. 180.  84. 121. 161.\n",
      "  99. 109. 115. 268. 274. 158. 107.  83. 103. 272.  85. 280. 336. 281.\n",
      " 118. 317. 235.  60. 174. 259. 178. 128.  96. 126. 288.  88. 292.  71.\n",
      " 197. 186.  25.  84.  96. 195.  53. 217. 172. 131. 214.  59.  70. 220.\n",
      " 268. 152.  47.  74. 295. 101. 151. 127. 237. 225.  81. 151. 107.  64.\n",
      " 138. 185. 265. 101. 137. 143. 141.  79. 292. 178.  91. 116.  86. 122.\n",
      "  72. 129. 142.  90. 158.  39. 196. 222. 277.  99. 196. 202. 155.  77.\n",
      " 191.  70.  73.  49.  65. 263. 248. 296. 214. 185.  78.  93. 252. 150.\n",
      "  77. 208.  77. 108. 160.  53. 220. 154. 259.  90. 246. 124.  67.  72.\n",
      " 257. 262. 275. 177.  71.  47. 187. 125.  78.  51. 258. 215. 303. 243.\n",
      "  91. 150. 310. 153. 346.  63.  89.  50.  39. 103. 308. 116. 145.  74.\n",
      "  45. 115. 264.  87. 202. 127. 182. 241.  66.  94. 283.  64. 102. 200.\n",
      " 265.  94. 230. 181. 156. 233.  60. 219.  80.  68. 332. 248.  84. 200.\n",
      "  55.  85.  89.  31. 129.  83. 275.  65. 198. 236. 253. 124.  44. 172.\n",
      " 114. 142. 109. 180. 144. 163. 147.  97. 220. 190. 109. 191. 122. 230.\n",
      " 242. 248. 249. 192. 131. 237.  78. 135. 244. 199. 270. 164.  72.  96.\n",
      " 306.  91. 214.  95. 216. 263. 178. 113. 200. 139. 139.  88. 148.  88.\n",
      " 243.  71.  77. 109. 272.  60.  54. 221.  90. 311. 281. 182. 321.  58.\n",
      " 262. 206. 233. 242. 123. 167.  63. 197.  71. 168. 140. 217. 121. 235.\n",
      " 245.  40.  52. 104. 132.  88.  69. 219.  72. 201. 110.  51. 277.  63.\n",
      " 118.  69. 273. 258.  43. 198. 242. 232. 175.  93. 168. 275. 293. 281.\n",
      "  72. 140. 189. 181. 209. 136. 261. 113. 131. 174. 257.  55.  84.  42.\n",
      " 146. 212. 233.  91. 111. 152. 120.  67. 310.  94. 183.  66. 173.  72.\n",
      "  49.  64.  48. 178. 104. 132. 220.  57.]\n"
     ]
    }
   ],
   "source": [
    "import numpy as np\n",
    "\n",
    "X = np.array(df_X)\n",
    "y = np.array(df_y)\n",
    "print(X, y)"
   ]
  },
  {
   "cell_type": "code",
   "execution_count": 81,
   "id": "7c960efd",
   "metadata": {},
   "outputs": [
    {
     "name": "stdout",
     "output_type": "stream",
     "text": [
      "(353, 10) (353,)\n",
      "(89, 10) (89,)\n"
     ]
    }
   ],
   "source": [
    "from sklearn.model_selection import train_test_split\n",
    "\n",
    "X_train, X_test, y_train, y_test = train_test_split(X, y, test_size=0.2, random_state=42)\n",
    "\n",
    "print(X_train.shape, y_train.shape)\n",
    "print(X_test.shape, y_test.shape)"
   ]
  },
  {
   "cell_type": "code",
   "execution_count": 82,
   "id": "a2947f1b",
   "metadata": {},
   "outputs": [],
   "source": [
    "import numpy as np\n",
    "W = np.random.rand(10)\n",
    "b = np.random.rand()\n",
    "\n",
    "def model(X, W, b):\n",
    "    predictions = 0\n",
    "    for i in range(10):\n",
    "        predictions += X[:, i] * W[i]\n",
    "    predictions += b\n",
    "    return predictions"
   ]
  },
  {
   "cell_type": "code",
   "execution_count": 83,
   "id": "dfa807b2",
   "metadata": {},
   "outputs": [
    {
     "data": {
      "text/plain": [
       "array([0.57715937, 0.23446379, 0.27117799, 0.9401325 , 0.42885345,\n",
       "       0.40900955, 0.46232523, 0.00844425, 0.02465335, 0.36932476])"
      ]
     },
     "execution_count": 83,
     "metadata": {},
     "output_type": "execute_result"
    }
   ],
   "source": [
    "W"
   ]
  },
  {
   "cell_type": "code",
   "execution_count": 84,
   "id": "06351b5b",
   "metadata": {},
   "outputs": [
    {
     "data": {
      "text/plain": [
       "0.9066852703871259"
      ]
     },
     "execution_count": 84,
     "metadata": {},
     "output_type": "execute_result"
    }
   ],
   "source": [
    "b"
   ]
  },
  {
   "cell_type": "code",
   "execution_count": 85,
   "id": "9ef3af91",
   "metadata": {},
   "outputs": [],
   "source": [
    "def MSE(a, b):\n",
    "    mse = ((a - b) ** 2).mean()  # 두 값의 차이의 제곱의 평균\n",
    "    return mse"
   ]
  },
  {
   "cell_type": "code",
   "execution_count": 86,
   "id": "0d0bb295",
   "metadata": {},
   "outputs": [],
   "source": [
    "def loss(X, W, b, y):\n",
    "    predictions = model(X, W, b)\n",
    "    L = MSE(predictions, y)\n",
    "    return L"
   ]
  },
  {
   "cell_type": "code",
   "execution_count": 87,
   "id": "4ede5155",
   "metadata": {},
   "outputs": [],
   "source": [
    "def gradient(X, W, b, y):\n",
    "    N = len(W)\n",
    "    y_pred = model(X, W, b)\n",
    "    dW = 1/N * 2 * X.T.dot(y_pred - y)\n",
    "    db = 2 * (y_pred - y).mean()\n",
    "    return dW, db"
   ]
  },
  {
   "cell_type": "code",
   "execution_count": 88,
   "id": "82dd3153",
   "metadata": {},
   "outputs": [
    {
     "name": "stdout",
     "output_type": "stream",
     "text": [
      "dW: [ -60.58267353  -13.82971022 -189.69248999 -142.63817504  -68.36867959\n",
      "  -56.11117459  127.80647937 -139.19886611 -183.01757691 -123.60222158]\n",
      "db: -302.4535977850176\n"
     ]
    }
   ],
   "source": [
    "dW, db = gradient(X, W, b, y)\n",
    "print(\"dW:\", dW)\n",
    "print(\"db:\", db)"
   ]
  },
  {
   "cell_type": "code",
   "execution_count": 90,
   "id": "f1f8c610",
   "metadata": {},
   "outputs": [],
   "source": [
    "LEARNING_RATE = 0.01"
   ]
  },
  {
   "cell_type": "code",
   "execution_count": 91,
   "id": "4eba1b25",
   "metadata": {},
   "outputs": [
    {
     "name": "stdout",
     "output_type": "stream",
     "text": [
      "Iteration 10 : Loss 21347.5883\n",
      "Iteration 20 : Loss 15898.7768\n",
      "Iteration 30 : Loss 12211.0885\n",
      "Iteration 40 : Loss 9703.8887\n",
      "Iteration 50 : Loss 7989.0699\n",
      "Iteration 60 : Loss 6807.0926\n",
      "Iteration 70 : Loss 5984.2881\n",
      "Iteration 80 : Loss 5404.3528\n",
      "Iteration 90 : Loss 4989.3167\n",
      "Iteration 100 : Loss 4686.8354\n",
      "Iteration 110 : Loss 4461.7035\n",
      "Iteration 120 : Loss 4290.1857\n",
      "Iteration 130 : Loss 4156.2300\n",
      "Iteration 140 : Loss 4048.9367\n",
      "Iteration 150 : Loss 3960.8662\n",
      "Iteration 160 : Loss 3886.9069\n",
      "Iteration 170 : Loss 3823.5181\n",
      "Iteration 180 : Loss 3768.2216\n",
      "Iteration 190 : Loss 3719.2617\n",
      "Iteration 200 : Loss 3675.3760\n",
      "Iteration 210 : Loss 3635.6416\n",
      "Iteration 220 : Loss 3599.3711\n",
      "Iteration 230 : Loss 3566.0418\n",
      "Iteration 240 : Loss 3535.2483\n",
      "Iteration 250 : Loss 3506.6692\n",
      "Iteration 260 : Loss 3480.0449\n",
      "Iteration 270 : Loss 3455.1618\n",
      "Iteration 280 : Loss 3431.8409\n",
      "Iteration 290 : Loss 3409.9306\n",
      "Iteration 300 : Loss 3389.3004\n",
      "Iteration 310 : Loss 3369.8371\n",
      "Iteration 320 : Loss 3351.4417\n",
      "Iteration 330 : Loss 3334.0269\n",
      "Iteration 340 : Loss 3317.5152\n",
      "Iteration 350 : Loss 3301.8376\n",
      "Iteration 360 : Loss 3286.9324\n",
      "Iteration 370 : Loss 3272.7441\n",
      "Iteration 380 : Loss 3259.2228\n",
      "Iteration 390 : Loss 3246.3234\n",
      "Iteration 400 : Loss 3234.0050\n",
      "Iteration 410 : Loss 3222.2305\n",
      "Iteration 420 : Loss 3210.9660\n",
      "Iteration 430 : Loss 3200.1809\n",
      "Iteration 440 : Loss 3189.8468\n",
      "Iteration 450 : Loss 3179.9380\n",
      "Iteration 460 : Loss 3170.4307\n",
      "Iteration 470 : Loss 3161.3031\n",
      "Iteration 480 : Loss 3152.5350\n",
      "Iteration 490 : Loss 3144.1079\n",
      "Iteration 500 : Loss 3136.0046\n",
      "Iteration 510 : Loss 3128.2089\n",
      "Iteration 520 : Loss 3120.7060\n",
      "Iteration 530 : Loss 3113.4821\n",
      "Iteration 540 : Loss 3106.5243\n",
      "Iteration 550 : Loss 3099.8204\n",
      "Iteration 560 : Loss 3093.3590\n",
      "Iteration 570 : Loss 3087.1297\n",
      "Iteration 580 : Loss 3081.1222\n",
      "Iteration 590 : Loss 3075.3273\n",
      "Iteration 600 : Loss 3069.7360\n",
      "Iteration 610 : Loss 3064.3400\n",
      "Iteration 620 : Loss 3059.1313\n",
      "Iteration 630 : Loss 3054.1023\n",
      "Iteration 640 : Loss 3049.2461\n",
      "Iteration 650 : Loss 3044.5557\n",
      "Iteration 660 : Loss 3040.0248\n",
      "Iteration 670 : Loss 3035.6472\n",
      "Iteration 680 : Loss 3031.4171\n",
      "Iteration 690 : Loss 3027.3290\n",
      "Iteration 700 : Loss 3023.3775\n",
      "Iteration 710 : Loss 3019.5576\n",
      "Iteration 720 : Loss 3015.8644\n",
      "Iteration 730 : Loss 3012.2934\n",
      "Iteration 740 : Loss 3008.8399\n",
      "Iteration 750 : Loss 3005.4999\n",
      "Iteration 760 : Loss 3002.2692\n",
      "Iteration 770 : Loss 2999.1440\n",
      "Iteration 780 : Loss 2996.1205\n",
      "Iteration 790 : Loss 2993.1950\n",
      "Iteration 800 : Loss 2990.3643\n",
      "Iteration 810 : Loss 2987.6248\n",
      "Iteration 820 : Loss 2984.9735\n",
      "Iteration 830 : Loss 2982.4073\n",
      "Iteration 840 : Loss 2979.9233\n",
      "Iteration 850 : Loss 2977.5185\n",
      "Iteration 860 : Loss 2975.1904\n",
      "Iteration 870 : Loss 2972.9362\n",
      "Iteration 880 : Loss 2970.7534\n",
      "Iteration 890 : Loss 2968.6397\n",
      "Iteration 900 : Loss 2966.5926\n",
      "Iteration 910 : Loss 2964.6099\n",
      "Iteration 920 : Loss 2962.6895\n",
      "Iteration 930 : Loss 2960.8292\n",
      "Iteration 940 : Loss 2959.0270\n",
      "Iteration 950 : Loss 2957.2809\n",
      "Iteration 960 : Loss 2955.5892\n",
      "Iteration 970 : Loss 2953.9499\n",
      "Iteration 980 : Loss 2952.3614\n",
      "Iteration 990 : Loss 2950.8219\n",
      "Iteration 1000 : Loss 2949.3299\n"
     ]
    }
   ],
   "source": [
    "losses = []\n",
    "\n",
    "for i in range(1, 1001):\n",
    "    dW, db = gradient(X_train, W, b, y_train)\n",
    "    W -= LEARNING_RATE * dW\n",
    "    b -= LEARNING_RATE * db\n",
    "    L = loss(X_train, W, b, y_train)\n",
    "    losses.append(L)\n",
    "    if i % 10 == 0:\n",
    "        print('Iteration %d : Loss %0.4f' % (i, L))"
   ]
  },
  {
   "cell_type": "code",
   "execution_count": 92,
   "id": "c5023b90",
   "metadata": {},
   "outputs": [
    {
     "data": {
      "image/png": "[encoded data removed]",
      "text/plain": [
       "<Figure size 432x288 with 1 Axes>"
      ]
     },
     "metadata": {
      "needs_background": "light"
     },
     "output_type": "display_data"
    }
   ],
   "source": [
    "import matplotlib.pyplot as plt\n",
    "plt.plot(losses)\n",
    "plt.show()"
   ]
  },
  {
   "cell_type": "code",
   "execution_count": 93,
   "id": "3f79d93e",
   "metadata": {},
   "outputs": [
    {
     "data": {
      "text/plain": [
       "(array([  48.28094902, -170.16863025,  470.44820701,  306.82348072,\n",
       "         -51.43546289,  -99.98064904, -210.01020252,  145.09786229,\n",
       "         350.72090819,  133.01159802]),\n",
       " 151.491146856271)"
      ]
     },
     "execution_count": 93,
     "metadata": {},
     "output_type": "execute_result"
    }
   ],
   "source": [
    "W, b"
   ]
  },
  {
   "cell_type": "code",
   "execution_count": 94,
   "id": "a49f3018",
   "metadata": {},
   "outputs": [
    {
     "data": {
      "text/plain": [
       "2867.364518183978"
      ]
     },
     "execution_count": 94,
     "metadata": {},
     "output_type": "execute_result"
    }
   ],
   "source": [
    "prediction = model(X_test, W, b)\n",
    "mse = loss(X_test, W, b, y_test)\n",
    "mse"
   ]
  },
  {
   "cell_type": "code",
   "execution_count": 95,
   "id": "2a8da3ef",
   "metadata": {},
   "outputs": [
    {
     "data": {
      "image/png": "[encoded data removed]",
      "text/plain": [
       "<Figure size 432x288 with 1 Axes>"
      ]
     },
     "metadata": {
      "needs_background": "light"
     },
     "output_type": "display_data"
    }
   ],
   "source": [
    "plt.scatter(X_test[:, 0], y_test)\n",
    "plt.scatter(X_test[:, 0], prediction)\n",
    "plt.show()"
   ]
  },
  {
   "cell_type": "code",
   "execution_count": null,
   "id": "c0b0a868",
   "metadata": {},
   "outputs": [],
   "source": []
  }
 ],
 "metadata": {
  "kernelspec": {
   "display_name": "Python 3 (ipykernel)",
   "language": "python",
   "name": "python3"
  },
  "language_info": {
   "codemirror_mode": {
    "name": "ipython",
    "version": 3
   },
   "file_extension": ".py",
   "mimetype": "text/x-python",
   "name": "python",
   "nbconvert_exporter": "python",
   "pygments_lexer": "ipython3",
   "version": "3.9.7"
  }
 },
 "nbformat": 4,
 "nbformat_minor": 5
}
